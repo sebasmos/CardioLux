{
  "nbformat": 4,
  "nbformat_minor": 0,
  "metadata": {
    "kernelspec": {
      "display_name": "Python 3.7.6 64-bit ('base': conda)",
      "language": "python",
      "name": "python_defaultSpec_1598222965836"
    },
    "language_info": {
      "codemirror_mode": {
        "name": "ipython",
        "version": 3
      },
      "file_extension": ".py",
      "mimetype": "text/x-python",
      "name": "python",
      "nbconvert_exporter": "python",
      "pygments_lexer": "ipython3",
      "version": "3.7.6-final"
    },
    "colab": {
      "name": "2. model_testing.ipynb",
      "provenance": [],
      "collapsed_sections": []
    }
  },
  "cells": [
    {
      "cell_type": "code",
      "metadata": {
        "tags": [],
        "id": "o1aJbVYBWSh0",
        "colab_type": "code",
        "colab": {}
      },
      "source": [
        "import pandas as pd\n",
        "import seaborn as sns\n",
        "import os\n",
        "from pathlib import Path\n",
        "import matplotlib.pyplot as plt\n",
        "from scipy.misc import electrocardiogram\n",
        "from scipy import signal\n",
        "import scipy.integrate as integrate\n",
        "import scipy.fftpack as ff\n",
        "#!/usr/bin/env python\n",
        "\n",
        "import numpy as np, os, sys, joblib\n",
        "from scipy.io import loadmat\n",
        "from sklearn.impute import SimpleImputer\n",
        "\n",
        "import pandas as pd\n",
        "import numpy as np\n",
        "from sklearn.model_selection import train_test_split\n",
        "from sklearn.preprocessing import StandardScaler\n",
        "import matplotlib.pyplot as plt\n",
        "from pathlib import Path\n",
        "from numpy import genfromtxt\n",
        "\n",
        "# TensorFlow and tf.keras\n",
        "import tensorflow as tf\n",
        "from tensorflow import keras\n",
        "from keras.models import Sequential\n",
        "from keras.layers import Conv1D, LSTM, Dense, Dropout, TimeDistributed, Flatten\n",
        "from keras.optimizers import Adam\n",
        "import keras\n",
        "\n",
        "import matplotlib.pyplot as plt\n",
        "%matplotlib inline"
      ],
      "execution_count": null,
      "outputs": []
    },
    {
      "cell_type": "markdown",
      "metadata": {
        "id": "-cBqh8xeWSh8",
        "colab_type": "text"
      },
      "source": [
        "# 1. Signal lecture \n",
        "#### Please note: \n",
        "For easier data analysis and features visualization, please use pandas (since its easier to use). But for the final signal (the one we need to integration), please use numpy format (convert to numpy using \"signal.values\")"
      ]
    },
    {
      "cell_type": "code",
      "metadata": {
        "id": "dOgED0yLWSh_",
        "colab_type": "code",
        "colab": {}
      },
      "source": [
        "features = f'features.csv'\n",
        "labels = f'labels.csv'\n",
        "testing = f'testing.csv'\n",
        "testing = genfromtxt(testing, delimiter=',')\n",
        "features = genfromtxt(features, delimiter=',')\n",
        "labels = genfromtxt(labels, delimiter=',')"
      ],
      "execution_count": 31,
      "outputs": []
    },
    {
      "cell_type": "code",
      "metadata": {
        "id": "nIpbssJ6WSiH",
        "colab_type": "code",
        "colab": {}
      },
      "source": [
        "# Normalize data\n",
        "testing = tf.keras.utils.normalize(testing)\n",
        "features = tf.keras.utils.normalize(features)"
      ],
      "execution_count": 32,
      "outputs": []
    },
    {
      "cell_type": "code",
      "metadata": {
        "tags": [],
        "id": "joCy766RWSiP",
        "colab_type": "code",
        "colab": {
          "base_uri": "https://localhost:8080/",
          "height": 73
        },
        "outputId": "b08528f8-8914-43bc-ccf7-28bc1faf3d25"
      },
      "source": [
        "print(features.dtype)\n",
        "print(testing.dtype)\n",
        "print(labels.dtype)"
      ],
      "execution_count": 33,
      "outputs": [
        {
          "output_type": "stream",
          "name": "stdout",
          "text": "float64\nfloat64\nfloat64\n"
        }
      ]
    },
    {
      "cell_type": "code",
      "metadata": {
        "tags": [],
        "id": "nVbNkigxWSiY",
        "colab_type": "code",
        "colab": {
          "base_uri": "https://localhost:8080/",
          "height": 36
        },
        "outputId": "80cf768f-9c65-4d79-c696-d2c032b7935b"
      },
      "source": [
        "## Inside the run_12ECG_code we must consider the following structure (1,14)\n",
        "testing_reshape = testing.reshape(1, -1)\n",
        "imputer=SimpleImputer().fit(testing_reshape)\n",
        "testing_reshape = imputer.transform(testing_reshape)\n",
        "print(testing_reshape.shape)"
      ],
      "execution_count": 34,
      "outputs": [
        {
          "output_type": "stream",
          "name": "stdout",
          "text": "(1, 14)\n"
        }
      ]
    },
    {
      "cell_type": "code",
      "metadata": {
        "tags": [],
        "id": "D7yhR6u8WSif",
        "colab_type": "code",
        "colab": {
          "base_uri": "https://localhost:8080/",
          "height": 54
        },
        "outputId": "b85fbdb9-116f-481f-e822-b5f8b7f82c60"
      },
      "source": [
        "# Training set bust consider the next structure\n",
        "print(features.shape, labels.shape)\n",
        "4812*14"
      ],
      "execution_count": 35,
      "outputs": [
        {
          "output_type": "stream",
          "name": "stdout",
          "text": "(4813, 14) (4813, 9)\n"
        },
        {
          "output_type": "execute_result",
          "data": {
            "text/plain": "67368"
          },
          "metadata": {},
          "execution_count": 35
        }
      ]
    },
    {
      "cell_type": "code",
      "metadata": {
        "tags": [],
        "id": "nrw7nEMkWSin",
        "colab_type": "code",
        "colab": {
          "base_uri": "https://localhost:8080/",
          "height": 36
        },
        "outputId": "536def75-fdac-4716-c424-ee026069bda8"
      },
      "source": [
        "# Since labels are organized in hot-encoding format and we need the index Number, define decode:\n",
        "def decode(datum):\n",
        "    return np.argmax(datum)\n",
        "label_final = []\n",
        "    \n",
        "# Extract hot-encode format to normal format\n",
        "for i in range(labels.shape[0]):\n",
        "    label = labels[i]\n",
        "    decoded_labels = decode(label)\n",
        "    label_final.append(decoded_labels)\n",
        "# Convert list to np array\n",
        "label_final = np.array(label_final)\n",
        "label_final = np.uint8(label_final)\n",
        "print(label_final.dtype)"
      ],
      "execution_count": 60,
      "outputs": [
        {
          "output_type": "stream",
          "name": "stdout",
          "text": "uint8\n"
        }
      ]
    },
    {
      "cell_type": "code",
      "metadata": {
        "id": "YIWK_YAUWSir",
        "colab_type": "code",
        "colab": {
          "base_uri": "https://localhost:8080/",
          "height": 36
        },
        "outputId": "ee9de424-2ccc-4957-856c-fe5bf58373df"
      },
      "source": [
        "features.shape"
      ],
      "execution_count": 61,
      "outputs": [
        {
          "output_type": "execute_result",
          "data": {
            "text/plain": "(4813, 14)"
          },
          "metadata": {},
          "execution_count": 61
        }
      ]
    },
    {
      "cell_type": "markdown",
      "metadata": {},
      "source": [
        "### Model 0 - Basic Sequential"
      ]
    },
    {
      "cell_type": "code",
      "metadata": {
        "id": "9iDRRUMXWSiw",
        "colab_type": "code",
        "colab": {
          "base_uri": "https://localhost:8080/",
          "height": 597
        },
        "outputId": "b6ab67d8-5a31-47a8-cc69-0b473e6f16ac",
        "tags": []
      },
      "source": [
        "model_0 = Sequential()\n",
        "model_0.add(Dense(12, input_dim = 14, activation=\"softmax\"))\n",
        "model_0.add(Dense(128, activation = 'softmax'))\n",
        "model_0.add(Dense(9, activation = 'softmax'))\n",
        "# Compile the model\n",
        "model_0.compile(loss = \"categorical_crossentropy\", optimizer = \"adam\", metrics=['accuracy'])\n",
        "# Fit the model\n",
        "model_0.fit(features,labels, epochs=15, batch_size=10,  verbose=2)"
      ],
      "execution_count": 62,
      "outputs": [
        {
          "output_type": "stream",
          "name": "stdout",
          "text": "Epoch 1/15\n - 1s - loss: 2.2486 - accuracy: 0.2240\nEpoch 2/15\n - 1s - loss: 2.1783 - accuracy: 0.2256\nEpoch 3/15\n - 1s - loss: 2.1682 - accuracy: 0.2256\nEpoch 4/15\n - 1s - loss: 2.1669 - accuracy: 0.2256\nEpoch 5/15\n - 1s - loss: 2.1669 - accuracy: 0.2256\nEpoch 6/15\n - 1s - loss: 2.1669 - accuracy: 0.2256\nEpoch 7/15\n - 1s - loss: 2.1669 - accuracy: 0.2256\nEpoch 8/15\n - 1s - loss: 2.1670 - accuracy: 0.2256\nEpoch 9/15\n - 1s - loss: 2.1674 - accuracy: 0.2256\nEpoch 10/15\n - 1s - loss: 2.1673 - accuracy: 0.2256\nEpoch 11/15\n - 1s - loss: 2.1671 - accuracy: 0.2256\nEpoch 12/15\n - 1s - loss: 2.1671 - accuracy: 0.2256\nEpoch 13/15\n - 1s - loss: 2.1671 - accuracy: 0.2256\nEpoch 14/15\n - 1s - loss: 2.1672 - accuracy: 0.2256\nEpoch 15/15\n - 1s - loss: 2.1669 - accuracy: 0.2256\n"
        },
        {
          "output_type": "execute_result",
          "data": {
            "text/plain": "<keras.callbacks.callbacks.History at 0x7f2b905be710>"
          },
          "metadata": {},
          "execution_count": 62
        }
      ]
    },
    {
      "cell_type": "markdown",
      "metadata": {
        "id": "zWtLXlrtWSi2",
        "colab_type": "text"
      },
      "source": [
        "#### Model 1 : branch NN_1"
      ]
    },
    {
      "cell_type": "code",
      "metadata": {
        "tags": [],
        "id": "_H6_MeU1WSi3",
        "colab_type": "code",
        "colab": {
          "base_uri": "https://localhost:8080/",
          "height": 447
        },
        "outputId": "d80d7e24-d383-4215-943a-5a23fd376e93"
      },
      "source": [
        "print(\"training model NN_1\")\n",
        "############# MODEL 1 - NN ######################\n",
        "model_1 = tf.keras.models.Sequential()\n",
        "model_1.add(tf.keras.layers.Flatten())\n",
        "# use 128 neurons & use relu act func\n",
        "model_1.add(tf.keras.layers.Dense(128, activation = tf.nn.relu))\n",
        "model_1.add(tf.keras.layers.Dense(128, activation = tf.nn.relu))\n",
        "\n",
        "model_1.add(tf.keras.layers.Dense(128, activation = tf.nn.relu))\n",
        "\n",
        "model_1.add(tf.keras.layers.Dense(128, activation = tf.nn.relu))\n",
        "\n",
        "model_1.add(tf.keras.layers.Dense(128, activation = tf.nn.relu))\n",
        "\n",
        "model_1.add(tf.keras.layers.Dense(128, activation = tf.nn.relu))\n",
        "# the final output layer must be Dense and must fit # classifications and must use probability distribution instead of an activation function\n",
        "model_1.add(tf.keras.layers.Dense(9, activation = tf.nn.softmax))\n",
        "    \n",
        "# Compile \n",
        "model_1.compile(\n",
        "optimizer= 'adam' ,# NN intends to minimize losss, not maximize accuracy\n",
        "loss = 'sparse_categorical_crossentropy',\n",
        "metrics = ['accuracy']\n",
        ")\n",
        "# Fit the model appropiatelly\n",
        "model_1.fit(features, label_final, epochs=10)\n",
        "val_loss, val_acc = model_1.evaluate(features, label_final)\n",
        "print(\"The model is trained\")"
      ],
      "execution_count": 63,
      "outputs": [
        {
          "output_type": "stream",
          "name": "stdout",
          "text": "training model NN_1\nTrain on 4813 samples\nEpoch 1/10\n4813/4813 [==============================] - 2s 415us/sample - loss: 2.0662 - accuracy: 0.2225\nEpoch 2/10\n4813/4813 [==============================] - 1s 153us/sample - loss: 2.0553 - accuracy: 0.2256\nEpoch 3/10\n4813/4813 [==============================] - 1s 146us/sample - loss: 2.0552 - accuracy: 0.2256\nEpoch 4/10\n4813/4813 [==============================] - 1s 136us/sample - loss: 2.0553 - accuracy: 0.2256\nEpoch 5/10\n4813/4813 [==============================] - 1s 134us/sample - loss: 2.0540 - accuracy: 0.2256\nEpoch 6/10\n4813/4813 [==============================] - 1s 165us/sample - loss: 2.0514 - accuracy: 0.2256\nEpoch 7/10\n4813/4813 [==============================] - 1s 177us/sample - loss: 2.0519 - accuracy: 0.2256\nEpoch 8/10\n4813/4813 [==============================] - 1s 187us/sample - loss: 2.0526 - accuracy: 0.2256\nEpoch 9/10\n4813/4813 [==============================] - 1s 171us/sample - loss: 2.0519 - accuracy: 0.2256\nEpoch 10/10\n4813/4813 [==============================] - 1s 283us/sample - loss: 2.0515 - accuracy: 0.2256\n4813/4813 [==============================] - 1s 139us/sample - loss: 2.0541 - accuracy: 0.2256\nThe model is trained\n"
        }
      ]
    },
    {
      "cell_type": "code",
      "metadata": {
        "tags": [],
        "id": "_bUuekRPWSi8",
        "colab_type": "code",
        "colab": {
          "base_uri": "https://localhost:8080/",
          "height": 466
        },
        "outputId": "5f1a0a42-4170-4156-8f00-5ad9b1c77e83"
      },
      "source": [
        "model_1.summary()"
      ],
      "execution_count": 64,
      "outputs": [
        {
          "output_type": "stream",
          "name": "stdout",
          "text": "Model: \"sequential_3\"\n_________________________________________________________________\nLayer (type)                 Output Shape              Param #   \n=================================================================\nflatten_2 (Flatten)          multiple                  0         \n_________________________________________________________________\ndense_14 (Dense)             multiple                  1920\n_________________________________________________________________\ndense_15 (Dense)             multiple                  16512     \n_________________________________________________________________\ndense_16 (Dense)             multiple                  16512     \n_________________________________________________________________\ndense_17 (Dense)             multiple                  16512     \n_________________________________________________________________\ndense_18 (Dense)             multiple                  16512     \n_________________________________________________________________\ndense_19 (Dense)             multiple                  16512     \n_________________________________________________________________\ndense_20 (Dense)             multiple                  1161      \n=================================================================\nTotal params: 85,641\nTrainable params: 85,641\nNon-trainable params: 0\n_________________________________________________________________\n"
        }
      ]
    },
    {
      "cell_type": "code",
      "metadata": {
        "tags": [],
        "id": "phoAjijpWSjF",
        "colab_type": "code",
        "colab": {
          "base_uri": "https://localhost:8080/",
          "height": 36
        },
        "outputId": "052bacb9-9fcf-4bf7-e3e9-5a42f0beff8e"
      },
      "source": [
        "# Save model.\n",
        "model_1.save(\"NN_1.model\")"
      ],
      "execution_count": 65,
      "outputs": [
        {
          "output_type": "stream",
          "name": "stdout",
          "text": "WARNING:tensorflow:From /home/sebasmos/anaconda3/lib/python3.7/site-packages/tensorflow_core/python/ops/resource_variable_ops.py:1786: calling BaseResourceVariable.__init__ (from tensorflow.python.ops.resource_variable_ops) with constraint is deprecated and will be removed in a future version.\nInstructions for updating:\nIf using Keras pass *_constraint arguments to layers.\nINFO:tensorflow:Assets written to: NN_1.model/assets\n"
        }
      ]
    },
    {
      "cell_type": "code",
      "metadata": {
        "tags": [],
        "id": "oZZviJW8WSjK",
        "colab_type": "code",
        "colab": {
          "base_uri": "https://localhost:8080/",
          "height": 36
        },
        "outputId": "2d5b92da-42db-4869-fb1d-fe8053debc5f"
      },
      "source": [
        "print(features.shape, label_final.shape)"
      ],
      "execution_count": 66,
      "outputs": [
        {
          "output_type": "stream",
          "name": "stdout",
          "text": "(4813, 14) (4813,)\n"
        }
      ]
    },
    {
      "cell_type": "code",
      "metadata": {
        "id": "tO6zd8kGWSjO",
        "colab_type": "code",
        "colab": {
          "base_uri": "https://localhost:8080/",
          "height": 36
        },
        "outputId": "6699d0c7-d134-4e38-d9f6-bf20a157b9b8"
      },
      "source": [
        "nn_model = tf.keras.models.load_model('NN_1.model/')\n",
        "nn_model"
      ],
      "execution_count": 67,
      "outputs": [
        {
          "output_type": "execute_result",
          "data": {
            "text/plain": "<tensorflow.python.keras.saving.saved_model.load.Sequential at 0x7f2b90227250>"
          },
          "metadata": {},
          "execution_count": 67
        }
      ]
    },
    {
      "cell_type": "markdown",
      "metadata": {
        "id": "eegAbIA9WSjU",
        "colab_type": "text"
      },
      "source": [
        "### current label & score\n",
        "1. From the baseline code we had that the original model saved three things:`model`, `imputer`, `classes` on a file called `finalized_model.sav` from the joblib library. \n",
        "2. The Imputer used in the training code might be affecting the testing set. Imputer replaces np.nan values inside the features and it is saved only once for the entire traininset, therefore it must be saved to be re used in the driver.py code\n",
        "3. `current_label`: is originally extracted using:\n",
        "\n",
        " `current_label = model.predict(feats_reshape)[0]`:  Array of float64 (9,) # array([0., 1., 0., 0., 0., 0., 0., 0., 1.])\n",
        " \n",
        " `current_label=current_label.astype(int)`:  Array of int32 (9,) # array([0, 1, 0, 0, 0, 0, 0, 0, 1])\n",
        "\n",
        " `current_score = model.predict_proba(feats_reshape)`: List of 9 which is converted to np.array # array([0.04, 0.74, 0.02, 0.04, 0.09, 0.02, 0.  , 0.03, 0.72])\n",
        "\n",
        " `classes`: This function is stored as well and contains the classes tags:  \n",
        " \n",
        " classes = ['164884008', '164889003', '164909002', '164931005', '270492004', '284470004', '426783006', '429622005', '59118001']\n",
        "   "
      ]
    },
    {
      "cell_type": "code",
      "metadata": {
        "tags": [],
        "id": "iGbu-X11WSjW",
        "colab_type": "code",
        "colab": {
          "base_uri": "https://localhost:8080/",
          "height": 36
        },
        "outputId": "5b6c4632-e87f-4e0c-e56d-1355e72d8951"
      },
      "source": [
        "# adding [0] for extracting the values from the array\n",
        "current_label = nn_model.predict([testing_reshape])[0]\n",
        "current_label = current_label.astype(int)\n",
        "current_label"
      ],
      "execution_count": 81,
      "outputs": [
        {
          "output_type": "execute_result",
          "data": {
            "text/plain": "array([0, 0, 0, 0, 0, 0, 0, 0, 0])"
          },
          "metadata": {},
          "execution_count": 81
        }
      ]
    },
    {
      "cell_type": "markdown",
      "metadata": {
        "id": "UmIeKRKXWSja",
        "colab_type": "text"
      },
      "source": [
        "Evidently this will be zero all the time unless prediction is really high. Therefore we can use argmax."
      ]
    },
    {
      "cell_type": "code",
      "execution_count": 84,
      "metadata": {
        "colab": {
          "base_uri": "https://localhost:8080/",
          "height": 54
        },
        "colab_type": "code",
        "id": "yucMgWOoWSjb",
        "outputId": "ed4aa5a2-345f-4137-934c-b0f5377ccc8c"
      },
      "outputs": [
        {
          "output_type": "execute_result",
          "data": {
            "text/plain": "array([0.10544974, 0.16263951, 0.0378426 , 0.04765469, 0.10410184,\n       0.0878576 , 0.13401309, 0.11713167, 0.2033093 ], dtype=float32)"
          },
          "metadata": {},
          "execution_count": 84
        }
      ],
      "source": [
        "current_label = nn_model.predict(testing_reshape)[0]\n",
        "current_label"
      ]
    },
    {
      "cell_type": "code",
      "metadata": {
        "tags": [],
        "id": "y4gyETsvWSje",
        "colab_type": "code",
        "colab": {
          "base_uri": "https://localhost:8080/",
          "height": 131
        },
        "outputId": "14b7b06d-cecf-4ff0-cb4a-16498c2d0b8f"
      },
      "source": [
        "# Using the baseline probaility we obtain:\n",
        "current_score = nn_model.predict_proba(testing_reshape)\n",
        "current_score"
      ],
      "execution_count": 85,
      "outputs": [
        {
          "output_type": "execute_result",
          "data": {
            "text/plain": "array([[0.10544974, 0.16263951, 0.0378426 , 0.04765469, 0.10410184,\n        0.0878576 , 0.13401309, 0.11713167, 0.2033093 ]], dtype=float32)"
          },
          "metadata": {},
          "execution_count": 85
        }
      ]
    },
    {
      "cell_type": "code",
      "metadata": {
        "id": "1mMMICSUWSjl",
        "colab_type": "code",
        "colab": {
          "base_uri": "https://localhost:8080/",
          "height": 54
        },
        "outputId": "1a6f9b44-cbaf-40ab-ae25-5c1e58725997"
      },
      "source": [
        "# Suppose softmax model \n",
        "probability_model = tf.keras.Sequential([nn_model,tf.keras.layers.Softmax()])  \n",
        "current_score = nn_model.predict(testing_reshape)\n",
        "current_score"
      ],
      "execution_count": 86,
      "outputs": [
        {
          "output_type": "execute_result",
          "data": {
            "text/plain": "array([[0.10544974, 0.16263951, 0.0378426 , 0.04765469, 0.10410184,\n        0.0878576 , 0.13401309, 0.11713167, 0.2033093 ]], dtype=float32)"
          },
          "metadata": {},
          "execution_count": 86
        }
      ]
    },
    {
      "cell_type": "markdown",
      "metadata": {
        "id": "XuQttKlhWSjo",
        "colab_type": "text"
      },
      "source": [
        "From this results we can infer that nn_model.predict is equivalent to probability_model from Softmax performace"
      ]
    },
    {
      "cell_type": "markdown",
      "metadata": {
        "id": "gD24N5lLWSjo",
        "colab_type": "text"
      },
      "source": [
        "Conclusion"
      ]
    },
    {
      "cell_type": "code",
      "metadata": {
        "tags": [],
        "id": "tvw28GC2WSjp",
        "colab_type": "code",
        "colab": {
          "base_uri": "https://localhost:8080/",
          "height": 73
        },
        "outputId": "1ae86050-6565-4cc3-8ef8-cebd1fc8561d"
      },
      "source": [
        "from numpy import array\n",
        "from numpy import argmax\n",
        "from keras.utils import to_categorical\n",
        "\n",
        "prediction = nn_model.predict([testing_reshape])[0]\n",
        "print(prediction)\n",
        "prediction = np.argmax(prediction)\n",
        "encoded = to_categorical(prediction)\n",
        "current_label = encoded.astype(int)\n",
        "print(current_label)"
      ],
      "execution_count": 87,
      "outputs": [
        {
          "output_type": "stream",
          "name": "stdout",
          "text": "[0.10544974 0.16263951 0.0378426  0.04765469 0.10410184 0.0878576\n 0.13401309 0.11713167 0.2033093 ]\n[0 0 0 0 0 0 0 0 1]\n"
        }
      ]
    },
    {
      "cell_type": "code",
      "metadata": {
        "id": "DtI6sp0RWSjs",
        "colab_type": "code",
        "colab": {}
      },
      "source": [
        "test = [0.9403204, 0.16651522, 0.02546168, 0.03028586, 0.09770199, 0.08466987, 0.1342014,  0.11385558, 0.9403204]"
      ],
      "execution_count": 88,
      "outputs": []
    },
    {
      "cell_type": "code",
      "metadata": {
        "id": "PQqGHlisWSjz",
        "colab_type": "code",
        "colab": {
          "base_uri": "https://localhost:8080/",
          "height": 54
        },
        "outputId": "6fd4a868-9b14-4cd3-8533-94fcd3213076"
      },
      "source": [
        "test = np.array(test)\n",
        "test"
      ],
      "execution_count": 89,
      "outputs": [
        {
          "output_type": "execute_result",
          "data": {
            "text/plain": "array([0.9403204 , 0.16651522, 0.02546168, 0.03028586, 0.09770199,\n       0.08466987, 0.1342014 , 0.11385558, 0.9403204 ])"
          },
          "metadata": {},
          "execution_count": 89
        }
      ]
    },
    {
      "cell_type": "code",
      "metadata": {
        "id": "xDvXcwkwWSj5",
        "colab_type": "code",
        "colab": {
          "base_uri": "https://localhost:8080/",
          "height": 36
        },
        "outputId": "e8d6464f-f70c-4e5c-df80-71c2b7e47071"
      },
      "source": [
        "current_label = test.astype(int)\n",
        "current_label"
      ],
      "execution_count": 90,
      "outputs": [
        {
          "output_type": "execute_result",
          "data": {
            "text/plain": "array([0, 0, 0, 0, 0, 0, 0, 0, 0])"
          },
          "metadata": {},
          "execution_count": 90
        }
      ]
    },
    {
      "cell_type": "markdown",
      "metadata": {
        "id": "-HHtzkGbWSj8",
        "colab_type": "text"
      },
      "source": [
        "#### Model 2: CNN"
      ]
    },
    {
      "cell_type": "code",
      "metadata": {
        "tags": [],
        "id": "mWqS0Ed3WSj9",
        "colab_type": "code",
        "colab": {
          "base_uri": "https://localhost:8080/",
          "height": 36
        },
        "outputId": "8dc3edd0-106f-4d14-9f8c-a70afbaf3ac1"
      },
      "source": [
        "sequence_size = features.shape[1]\n",
        "n_features=1\n",
        "print(features.shape, label_final.shape)"
      ],
      "execution_count": 91,
      "outputs": [
        {
          "output_type": "stream",
          "name": "stdout",
          "text": "(4813, 14) (4813,)\n"
        }
      ]
    },
    {
      "cell_type": "code",
      "execution_count": 95,
      "metadata": {},
      "outputs": [
        {
          "output_type": "execute_result",
          "data": {
            "text/plain": "14"
          },
          "metadata": {},
          "execution_count": 95
        }
      ],
      "source": [
        "sequence_size"
      ]
    },
    {
      "cell_type": "code",
      "metadata": {
        "tags": [],
        "id": "YhSgP3MIWSkA",
        "colab_type": "code",
        "colab": {
          "base_uri": "https://localhost:8080/",
          "height": 316
        },
        "outputId": "f4ed2f19-6230-4653-bfde-e7ffa37285f7"
      },
      "source": [
        "cnn_model = Sequential([\n",
        "Conv1D(\n",
        "    filters=1,\n",
        "    kernel_size=4,\n",
        "    strides=1,\n",
        "    input_shape=(sequence_size, n_features),\n",
        "    padding=\"same\",\n",
        "    activation=\"relu\"\n",
        "),\n",
        "Flatten(),\n",
        "Dropout(0.5),\n",
        "Dense(\n",
        "    9,\n",
        "    activation=\"sigmoid\",\n",
        "    name=\"output\",\n",
        ")\n",
        "])\n",
        "optimizer = Adam(lr=0.001)\n",
        "# Compiling the model\n",
        "cnn_model.compile(\n",
        "    optimizer=optimizer,\n",
        "    loss=\"binary_crossentropy\",\n",
        "    metrics=[\"accuracy\"]\n",
        ")\n",
        "cnn_model.summary()\n"
      ],
      "execution_count": 97,
      "outputs": [
        {
          "output_type": "stream",
          "name": "stdout",
          "text": "Model: \"sequential_7\"\n_________________________________________________________________\nLayer (type)                 Output Shape              Param #   \n=================================================================\nconv1d_5 (Conv1D)            (None, 14, 1)             5         \n_________________________________________________________________\nflatten_5 (Flatten)          (None, 14)                0         \n_________________________________________________________________\ndropout_5 (Dropout)          (None, 14)                0         \n_________________________________________________________________\noutput (Dense)               (None, 9)                 135       \n=================================================================\nTotal params: 140\nTrainable params: 140\nNon-trainable params: 0\n_________________________________________________________________\n"
        }
      ]
    },
    {
      "cell_type": "code",
      "metadata": {
        "tags": [],
        "id": "_BKv1Xd8WSkH",
        "colab_type": "code",
        "colab": {
          "base_uri": "https://localhost:8080/",
          "height": 54
        },
        "outputId": "0694f6f0-26e0-47ef-f990-3ea546869d87"
      },
      "source": [
        "feat_cnn = np.expand_dims(features, axis=2) \n",
        "label_cnn = label_final.reshape(-1,1)\n",
        "print(\"features shape: \", feat_cnn.shape)\n",
        "print(\"label features: \", label_cnn.shape)"
      ],
      "execution_count": 98,
      "outputs": [
        {
          "output_type": "stream",
          "name": "stdout",
          "text": "features shape:  (4813, 14, 1)\nlabel features:  (4813, 1)\n"
        }
      ]
    },
    {
      "cell_type": "code",
      "metadata": {
        "id": "3ZZBHAJFWSkL",
        "colab_type": "code",
        "colab": {
          "base_uri": "https://localhost:8080/",
          "height": 36
        },
        "outputId": "5d678db4-78aa-43f8-8880-9ad7c476826c"
      },
      "source": [
        "labels.shape"
      ],
      "execution_count": 99,
      "outputs": [
        {
          "output_type": "execute_result",
          "data": {
            "text/plain": "(4813, 9)"
          },
          "metadata": {},
          "execution_count": 99
        }
      ]
    },
    {
      "cell_type": "code",
      "metadata": {
        "tags": [],
        "id": "YPsXWVNMWSkR",
        "colab_type": "code",
        "colab": {
          "base_uri": "https://localhost:8080/",
          "height": 597
        },
        "outputId": "cc14f6ad-ba06-4848-e106-446cf387207c"
      },
      "source": [
        "cnn_model.fit(feat_cnn, labels,  epochs=15, batch_size=10,  verbose=2)"
      ],
      "execution_count": 100,
      "outputs": [
        {
          "output_type": "stream",
          "name": "stdout",
          "text": "Epoch 1/15\n - 1s - loss: 0.5371 - accuracy: 0.8282\nEpoch 2/15\n - 1s - loss: 0.3616 - accuracy: 0.8811\nEpoch 3/15\n - 1s - loss: 0.3567 - accuracy: 0.8816\nEpoch 4/15\n - 1s - loss: 0.3547 - accuracy: 0.8816\nEpoch 5/15\n - 1s - loss: 0.3535 - accuracy: 0.8816\nEpoch 6/15\n - 1s - loss: 0.3532 - accuracy: 0.8816\nEpoch 7/15\n - 1s - loss: 0.3511 - accuracy: 0.8816\nEpoch 8/15\n - 1s - loss: 0.3505 - accuracy: 0.8816\nEpoch 9/15\n - 1s - loss: 0.3496 - accuracy: 0.8816\nEpoch 10/15\n - 1s - loss: 0.3494 - accuracy: 0.8816\nEpoch 11/15\n - 1s - loss: 0.3481 - accuracy: 0.8816\nEpoch 12/15\n - 1s - loss: 0.3473 - accuracy: 0.8816\nEpoch 13/15\n - 1s - loss: 0.3474 - accuracy: 0.8816\nEpoch 14/15\n - 1s - loss: 0.3466 - accuracy: 0.8816\nEpoch 15/15\n - 1s - loss: 0.3464 - accuracy: 0.8816\n"
        },
        {
          "output_type": "execute_result",
          "data": {
            "text/plain": "<keras.callbacks.callbacks.History at 0x7f2b3f4ccf50>"
          },
          "metadata": {},
          "execution_count": 100
        }
      ]
    },
    {
      "cell_type": "code",
      "execution_count": 82,
      "metadata": {},
      "outputs": [
        {
          "output_type": "execute_result",
          "data": {
            "text/plain": "(1, 14, 1)"
          },
          "metadata": {},
          "execution_count": 82
        }
      ],
      "source": [
        "testing_reshape_cnn = np.expand_dims(testing_reshape, axis=2) \n",
        "testing_reshape_cnn.shape"
      ]
    },
    {
      "cell_type": "code",
      "metadata": {
        "id": "2tjohu4VWSkX",
        "colab_type": "code",
        "colab": {}
      },
      "source": [
        "# feat_final and labels:  acc_88.16\n",
        "prediction_cnn = cnn_model.predict([testing_reshape_cnn])[0]"
      ],
      "execution_count": 83,
      "outputs": []
    },
    {
      "cell_type": "markdown",
      "metadata": {},
      "source": [
        "#### CNN + LSTM Model"
      ]
    },
    {
      "cell_type": "code",
      "execution_count": 108,
      "metadata": {},
      "outputs": [],
      "source": [
        "sequence_size = sequence_size\n",
        "n_features = 1 \n",
        "n_subsequences = 2\n",
        "subsequence_size = int(sequence_size / n_subsequences)"
      ]
    },
    {
      "cell_type": "code",
      "execution_count": 109,
      "metadata": {},
      "outputs": [
        {
          "output_type": "execute_result",
          "data": {
            "text/plain": "(4813, 14, 1)"
          },
          "metadata": {},
          "execution_count": 109
        }
      ],
      "source": [
        "feat_cnn.shape"
      ]
    },
    {
      "cell_type": "code",
      "execution_count": 115,
      "metadata": {},
      "outputs": [],
      "source": [
        "feat_lstm = feat_cnn.reshape(-1, n_subsequences, subsequence_size, n_features)"
      ]
    },
    {
      "cell_type": "code",
      "execution_count": 117,
      "metadata": {},
      "outputs": [
        {
          "output_type": "execute_result",
          "data": {
            "text/plain": "(4813, 2, 7, 1)"
          },
          "metadata": {},
          "execution_count": 117
        }
      ],
      "source": [
        "feat_lstm.shape"
      ]
    },
    {
      "cell_type": "code",
      "execution_count": 111,
      "metadata": {
        "tags": []
      },
      "outputs": [
        {
          "output_type": "stream",
          "name": "stdout",
          "text": "Model: \"sequential_8\"\n_________________________________________________________________\nLayer (type)                 Output Shape              Param #   \n=================================================================\ntime_distributed_1 (TimeDist (None, 2, 7, 8)           40        \n_________________________________________________________________\ntime_distributed_2 (TimeDist (None, 2, 56)             0         \n_________________________________________________________________\nlstm_1 (LSTM)                (None, 4)                 976       \n_________________________________________________________________\noutput (Dense)               (None, 1)                 5         \n=================================================================\nTotal params: 1,021\nTrainable params: 1,021\nNon-trainable params: 0\n_________________________________________________________________\n"
        }
      ],
      "source": [
        "cnn_lstm_model = Sequential([\n",
        "    TimeDistributed(\n",
        "        Conv1D(\n",
        "            filters=8,\n",
        "            kernel_size=4,\n",
        "            strides=1,\n",
        "            padding=\"same\",\n",
        "            activation=\"relu\"\n",
        "        ), \n",
        "        input_shape=(n_subsequences, subsequence_size, n_features)\n",
        "    ),\n",
        "    TimeDistributed(Flatten()),\n",
        "    LSTM(units=4),\n",
        "    Dense(\n",
        "        1,\n",
        "        activation=\"sigmoid\",\n",
        "        name=\"output\",\n",
        "    )\n",
        "])\n",
        "\n",
        "optimizer = Adam(lr=0.001)\n",
        "# Compiling the model\n",
        "cnn_lstm_model.compile(\n",
        "    optimizer=optimizer,\n",
        "    loss=\"binary_crossentropy\",\n",
        "    metrics=[\"accuracy\"]\n",
        ")\n",
        "cnn_lstm_model.summary()\n"
      ]
    },
    {
      "cell_type": "code",
      "execution_count": 119,
      "metadata": {
        "tags": []
      },
      "outputs": [
        {
          "output_type": "stream",
          "name": "stdout",
          "text": "Epoch 1/1\n4813/4813 [==============================] - 2s 419us/step - loss: -3.7503 - accuracy: 0.1627\n"
        }
      ],
      "source": [
        "train_params = {\n",
        "    \"batch_size\": 128,\n",
        "    \"epochs\": 15,\n",
        "    \"verbose\": 1,\n",
        "}\n",
        "\n",
        "history_cnn_lstm = cnn_lstm_model.fit(feat_lstm, label_final, **train_params)"
      ]
    },
    {
      "cell_type": "code",
      "execution_count": null,
      "metadata": {},
      "outputs": [],
      "source": []
    }
  ]
}