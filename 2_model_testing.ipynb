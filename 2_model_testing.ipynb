{
  "nbformat": 4,
  "nbformat_minor": 0,
  "metadata": {
    "kernelspec": {
      "display_name": "Python 3.7.6 64-bit ('base': conda)",
      "language": "python",
      "name": "python37664bitbaseconda91809b139dd24b97ab06595f752137a3"
    },
    "language_info": {
      "codemirror_mode": {
        "name": "ipython",
        "version": 3
      },
      "file_extension": ".py",
      "mimetype": "text/x-python",
      "name": "python",
      "nbconvert_exporter": "python",
      "pygments_lexer": "ipython3",
      "version": "3.7.6-final"
    },
    "colab": {
      "name": "2. model_testing.ipynb",
      "provenance": [],
      "collapsed_sections": []
    }
  },
  "cells": [
    {
      "cell_type": "code",
      "metadata": {
        "tags": [],
        "id": "o1aJbVYBWSh0",
        "colab_type": "code",
        "colab": {}
      },
      "source": [
        "import pandas as pd\n",
        "import seaborn as sns\n",
        "import os\n",
        "from pathlib import Path\n",
        "import matplotlib.pyplot as plt\n",
        "from scipy.misc import electrocardiogram\n",
        "from scipy import signal\n",
        "import scipy.integrate as integrate\n",
        "import scipy.fftpack as ff\n",
        "#!/usr/bin/env python\n",
        "\n",
        "import numpy as np, os, sys, joblib\n",
        "from scipy.io import loadmat\n",
        "from sklearn.impute import SimpleImputer\n",
        "\n",
        "import pandas as pd\n",
        "import numpy as np\n",
        "from sklearn.model_selection import train_test_split\n",
        "from sklearn.preprocessing import StandardScaler\n",
        "import matplotlib.pyplot as plt\n",
        "from pathlib import Path\n",
        "from numpy import genfromtxt\n",
        "\n",
        "# TensorFlow and tf.keras\n",
        "import tensorflow as tf\n",
        "from tensorflow import keras\n",
        "from keras.models import Sequential\n",
        "from keras.layers import Conv1D, LSTM, Dense, Dropout, TimeDistributed, Flatten\n",
        "from keras.optimizers import Adam\n",
        "import keras\n",
        "\n",
        "import matplotlib.pyplot as plt\n",
        "%matplotlib inline"
      ],
      "execution_count": 2,
      "outputs": []
    },
    {
      "cell_type": "markdown",
      "metadata": {
        "id": "-cBqh8xeWSh8",
        "colab_type": "text"
      },
      "source": [
        "# 1. Signal lecture \n",
        "#### Please note: \n",
        "For easier data analysis and features visualization, please use pandas (since its easier to use). But for the final signal (the one we need to integration), please use numpy format (convert to numpy using \"signal.values\")"
      ]
    },
    {
      "cell_type": "code",
      "metadata": {
        "id": "dOgED0yLWSh_",
        "colab_type": "code",
        "colab": {}
      },
      "source": [
        "features = f'features.csv'\n",
        "labels = f'labels.csv'\n",
        "testing = f'testing.csv'\n",
        "testing = genfromtxt(testing, delimiter=',')\n",
        "features = genfromtxt(features, delimiter=',')\n",
        "labels = genfromtxt(labels, delimiter=',')"
      ],
      "execution_count": 3,
      "outputs": []
    },
    {
      "cell_type": "code",
      "metadata": {
        "id": "nIpbssJ6WSiH",
        "colab_type": "code",
        "colab": {}
      },
      "source": [
        "# Normalize data\n",
        "testing = tf.keras.utils.normalize(testing)\n",
        "features = tf.keras.utils.normalize(features)"
      ],
      "execution_count": 4,
      "outputs": []
    },
    {
      "cell_type": "code",
      "metadata": {
        "tags": [],
        "id": "joCy766RWSiP",
        "colab_type": "code",
        "colab": {
          "base_uri": "https://localhost:8080/",
          "height": 73
        },
        "outputId": "b08528f8-8914-43bc-ccf7-28bc1faf3d25"
      },
      "source": [
        "print(features.dtype)\n",
        "print(testing.dtype)\n",
        "print(labels.dtype)"
      ],
      "execution_count": 6,
      "outputs": [
        {
          "output_type": "stream",
          "text": [
            "float64\n",
            "float64\n",
            "float64\n"
          ],
          "name": "stdout"
        }
      ]
    },
    {
      "cell_type": "code",
      "metadata": {
        "tags": [],
        "id": "nVbNkigxWSiY",
        "colab_type": "code",
        "colab": {
          "base_uri": "https://localhost:8080/",
          "height": 36
        },
        "outputId": "80cf768f-9c65-4d79-c696-d2c032b7935b"
      },
      "source": [
        "## Inside the run_12ECG_code we must consider the following structure (1,14)\n",
        "testing_reshape = testing.reshape(1, -1)\n",
        "imputer=SimpleImputer().fit(testing_reshape)\n",
        "testing_reshape = imputer.transform(testing_reshape)\n",
        "print(testing_reshape.shape)"
      ],
      "execution_count": 7,
      "outputs": [
        {
          "output_type": "stream",
          "text": [
            "(1, 14)\n"
          ],
          "name": "stdout"
        }
      ]
    },
    {
      "cell_type": "code",
      "metadata": {
        "tags": [],
        "id": "D7yhR6u8WSif",
        "colab_type": "code",
        "colab": {
          "base_uri": "https://localhost:8080/",
          "height": 54
        },
        "outputId": "b85fbdb9-116f-481f-e822-b5f8b7f82c60"
      },
      "source": [
        "# Training set bust consider the next structure\n",
        "print(features.shape, labels.shape)\n",
        "4812*14"
      ],
      "execution_count": 8,
      "outputs": [
        {
          "output_type": "stream",
          "text": [
            "(4813, 14) (4813, 9)\n"
          ],
          "name": "stdout"
        },
        {
          "output_type": "execute_result",
          "data": {
            "text/plain": [
              "67368"
            ]
          },
          "metadata": {
            "tags": []
          },
          "execution_count": 8
        }
      ]
    },
    {
      "cell_type": "code",
      "metadata": {
        "tags": [],
        "id": "nrw7nEMkWSin",
        "colab_type": "code",
        "colab": {
          "base_uri": "https://localhost:8080/",
          "height": 36
        },
        "outputId": "536def75-fdac-4716-c424-ee026069bda8"
      },
      "source": [
        "# Since labels are organized in hot-encoding format and we need the index Number, define decode:\n",
        "def decode(datum):\n",
        "    return np.argmax(datum)\n",
        "label_final = []\n",
        "    \n",
        "# Extract hot-encode format to normal format\n",
        "for i in range(labels.shape[0]):\n",
        "    label = labels[i]\n",
        "    decoded_labels = decode(label)\n",
        "    label_final.append(decoded_labels)\n",
        "# Convert list to np array\n",
        "label_final = np.array(label_final)\n",
        "label_final = np.uint8(label_final)\n",
        "print(label_final.dtype)"
      ],
      "execution_count": 9,
      "outputs": [
        {
          "output_type": "stream",
          "text": [
            "uint8\n"
          ],
          "name": "stdout"
        }
      ]
    },
    {
      "cell_type": "code",
      "metadata": {
        "id": "YIWK_YAUWSir",
        "colab_type": "code",
        "colab": {
          "base_uri": "https://localhost:8080/",
          "height": 36
        },
        "outputId": "ee9de424-2ccc-4957-856c-fe5bf58373df"
      },
      "source": [
        "features.shape"
      ],
      "execution_count": 10,
      "outputs": [
        {
          "output_type": "execute_result",
          "data": {
            "text/plain": [
              "(4813, 14)"
            ]
          },
          "metadata": {
            "tags": []
          },
          "execution_count": 10
        }
      ]
    },
    {
      "cell_type": "code",
      "metadata": {
        "id": "9iDRRUMXWSiw",
        "colab_type": "code",
        "colab": {
          "base_uri": "https://localhost:8080/",
          "height": 597
        },
        "outputId": "b6ab67d8-5a31-47a8-cc69-0b473e6f16ac"
      },
      "source": [
        "model_0 = Sequential()\n",
        "model_0.add(Dense(12, input_dim = 14, activation=\"softmax\"))\n",
        "model_0.add(Dense(128, activation = 'softmax'))\n",
        "model_0.add(Dense(9, activation = 'softmax'))\n",
        "# Compile the model\n",
        "model_0.compile(loss = \"categorical_crossentropy\", optimizer = \"adam\", metrics=['accuracy'])\n",
        "# Fit the model\n",
        "model_0.fit(features,labels, epochs=15, batch_size=10,  verbose=2)"
      ],
      "execution_count": 22,
      "outputs": [
        {
          "output_type": "stream",
          "text": [
            "Epoch 1/15\n",
            "482/482 - 0s - loss: 2.2465 - accuracy: 0.2248\n",
            "Epoch 2/15\n",
            "482/482 - 0s - loss: 2.1772 - accuracy: 0.2256\n",
            "Epoch 3/15\n",
            "482/482 - 0s - loss: 2.1680 - accuracy: 0.2256\n",
            "Epoch 4/15\n",
            "482/482 - 1s - loss: 2.1670 - accuracy: 0.2256\n",
            "Epoch 5/15\n",
            "482/482 - 0s - loss: 2.1669 - accuracy: 0.2256\n",
            "Epoch 6/15\n",
            "482/482 - 0s - loss: 2.1669 - accuracy: 0.2256\n",
            "Epoch 7/15\n",
            "482/482 - 0s - loss: 2.1668 - accuracy: 0.2256\n",
            "Epoch 8/15\n",
            "482/482 - 0s - loss: 2.1671 - accuracy: 0.2256\n",
            "Epoch 9/15\n",
            "482/482 - 0s - loss: 2.1672 - accuracy: 0.2256\n",
            "Epoch 10/15\n",
            "482/482 - 0s - loss: 2.1671 - accuracy: 0.2256\n",
            "Epoch 11/15\n",
            "482/482 - 0s - loss: 2.1670 - accuracy: 0.2256\n",
            "Epoch 12/15\n",
            "482/482 - 0s - loss: 2.1671 - accuracy: 0.2256\n",
            "Epoch 13/15\n",
            "482/482 - 0s - loss: 2.1669 - accuracy: 0.2256\n",
            "Epoch 14/15\n",
            "482/482 - 0s - loss: 2.1669 - accuracy: 0.2256\n",
            "Epoch 15/15\n",
            "482/482 - 0s - loss: 2.1670 - accuracy: 0.2256\n"
          ],
          "name": "stdout"
        },
        {
          "output_type": "execute_result",
          "data": {
            "text/plain": [
              "<tensorflow.python.keras.callbacks.History at 0x7f8ad7189e10>"
            ]
          },
          "metadata": {
            "tags": []
          },
          "execution_count": 22
        }
      ]
    },
    {
      "cell_type": "markdown",
      "metadata": {
        "id": "zWtLXlrtWSi2",
        "colab_type": "text"
      },
      "source": [
        "#### Model 1 : branch NN_1"
      ]
    },
    {
      "cell_type": "code",
      "metadata": {
        "tags": [],
        "id": "_H6_MeU1WSi3",
        "colab_type": "code",
        "colab": {
          "base_uri": "https://localhost:8080/",
          "height": 447
        },
        "outputId": "d80d7e24-d383-4215-943a-5a23fd376e93"
      },
      "source": [
        "print(\"training model NN_1\")\n",
        "############# MODEL 1 - NN ######################\n",
        "model_1 = tf.keras.models.Sequential()\n",
        "model_1.add(tf.keras.layers.Flatten())\n",
        "# use 128 neurons & use relu act func\n",
        "model_1.add(tf.keras.layers.Dense(128, activation = tf.nn.relu))\n",
        "model_1.add(tf.keras.layers.Dense(128, activation = tf.nn.relu))\n",
        "\n",
        "model_1.add(tf.keras.layers.Dense(128, activation = tf.nn.relu))\n",
        "\n",
        "model_1.add(tf.keras.layers.Dense(128, activation = tf.nn.relu))\n",
        "\n",
        "model_1.add(tf.keras.layers.Dense(128, activation = tf.nn.relu))\n",
        "\n",
        "model_1.add(tf.keras.layers.Dense(128, activation = tf.nn.relu))\n",
        "# the final output layer must be Dense and must fit # classifications and must use probability distribution instead of an activation function\n",
        "model_1.add(tf.keras.layers.Dense(9, activation = tf.nn.softmax))\n",
        "    \n",
        "# Compile \n",
        "model_1.compile(\n",
        "optimizer= 'adam' ,# NN intends to minimize losss, not maximize accuracy\n",
        "loss = 'sparse_categorical_crossentropy',\n",
        "metrics = ['accuracy']\n",
        ")\n",
        "# Fit the model appropiatelly\n",
        "model_1.fit(features, label_final, epochs=10)\n",
        "val_loss, val_acc = model_1.evaluate(features, label_final)\n",
        "print(\"The model is trained\")"
      ],
      "execution_count": 23,
      "outputs": [
        {
          "output_type": "stream",
          "text": [
            "training model NN_1\n",
            "Epoch 1/10\n",
            "151/151 [==============================] - 0s 3ms/step - loss: 2.0675 - accuracy: 0.2234\n",
            "Epoch 2/10\n",
            "151/151 [==============================] - 0s 3ms/step - loss: 2.0566 - accuracy: 0.2256\n",
            "Epoch 3/10\n",
            "151/151 [==============================] - 0s 3ms/step - loss: 2.0527 - accuracy: 0.2256\n",
            "Epoch 4/10\n",
            "151/151 [==============================] - 0s 2ms/step - loss: 2.0529 - accuracy: 0.2256\n",
            "Epoch 5/10\n",
            "151/151 [==============================] - 0s 3ms/step - loss: 2.0534 - accuracy: 0.2256\n",
            "Epoch 6/10\n",
            "151/151 [==============================] - 0s 3ms/step - loss: 2.0523 - accuracy: 0.2256\n",
            "Epoch 7/10\n",
            "151/151 [==============================] - 0s 2ms/step - loss: 2.0530 - accuracy: 0.2256\n",
            "Epoch 8/10\n",
            "151/151 [==============================] - 0s 3ms/step - loss: 2.0524 - accuracy: 0.2256\n",
            "Epoch 9/10\n",
            "151/151 [==============================] - 0s 2ms/step - loss: 2.0509 - accuracy: 0.2256\n",
            "Epoch 10/10\n",
            "151/151 [==============================] - 0s 2ms/step - loss: 2.0525 - accuracy: 0.2256\n",
            "151/151 [==============================] - 0s 1ms/step - loss: 2.0491 - accuracy: 0.2256\n",
            "The model is trained\n"
          ],
          "name": "stdout"
        }
      ]
    },
    {
      "cell_type": "code",
      "metadata": {
        "tags": [],
        "id": "_bUuekRPWSi8",
        "colab_type": "code",
        "colab": {
          "base_uri": "https://localhost:8080/",
          "height": 466
        },
        "outputId": "5f1a0a42-4170-4156-8f00-5ad9b1c77e83"
      },
      "source": [
        "model_1.summary()"
      ],
      "execution_count": 24,
      "outputs": [
        {
          "output_type": "stream",
          "text": [
            "Model: \"sequential_8\"\n",
            "_________________________________________________________________\n",
            "Layer (type)                 Output Shape              Param #   \n",
            "=================================================================\n",
            "flatten_1 (Flatten)          (None, 14)                0         \n",
            "_________________________________________________________________\n",
            "dense_28 (Dense)             (None, 128)               1920      \n",
            "_________________________________________________________________\n",
            "dense_29 (Dense)             (None, 128)               16512     \n",
            "_________________________________________________________________\n",
            "dense_30 (Dense)             (None, 128)               16512     \n",
            "_________________________________________________________________\n",
            "dense_31 (Dense)             (None, 128)               16512     \n",
            "_________________________________________________________________\n",
            "dense_32 (Dense)             (None, 128)               16512     \n",
            "_________________________________________________________________\n",
            "dense_33 (Dense)             (None, 128)               16512     \n",
            "_________________________________________________________________\n",
            "dense_34 (Dense)             (None, 9)                 1161      \n",
            "=================================================================\n",
            "Total params: 85,641\n",
            "Trainable params: 85,641\n",
            "Non-trainable params: 0\n",
            "_________________________________________________________________\n"
          ],
          "name": "stdout"
        }
      ]
    },
    {
      "cell_type": "code",
      "metadata": {
        "tags": [],
        "id": "phoAjijpWSjF",
        "colab_type": "code",
        "colab": {
          "base_uri": "https://localhost:8080/",
          "height": 36
        },
        "outputId": "052bacb9-9fcf-4bf7-e3e9-5a42f0beff8e"
      },
      "source": [
        "# Save model.\n",
        "model_1.save(\"NN_1.model\")"
      ],
      "execution_count": 25,
      "outputs": [
        {
          "output_type": "stream",
          "text": [
            "INFO:tensorflow:Assets written to: NN_1.model/assets\n"
          ],
          "name": "stdout"
        }
      ]
    },
    {
      "cell_type": "code",
      "metadata": {
        "tags": [],
        "id": "oZZviJW8WSjK",
        "colab_type": "code",
        "colab": {
          "base_uri": "https://localhost:8080/",
          "height": 36
        },
        "outputId": "2d5b92da-42db-4869-fb1d-fe8053debc5f"
      },
      "source": [
        "print(features.shape, label_final.shape)"
      ],
      "execution_count": 26,
      "outputs": [
        {
          "output_type": "stream",
          "text": [
            "(4813, 14) (4813,)\n"
          ],
          "name": "stdout"
        }
      ]
    },
    {
      "cell_type": "code",
      "metadata": {
        "id": "tO6zd8kGWSjO",
        "colab_type": "code",
        "colab": {
          "base_uri": "https://localhost:8080/",
          "height": 36
        },
        "outputId": "6699d0c7-d134-4e38-d9f6-bf20a157b9b8"
      },
      "source": [
        "nn_model = tf.keras.models.load_model('NN_1.model/')\n",
        "nn_model"
      ],
      "execution_count": 27,
      "outputs": [
        {
          "output_type": "execute_result",
          "data": {
            "text/plain": [
              "<tensorflow.python.keras.engine.sequential.Sequential at 0x7f8ad548af28>"
            ]
          },
          "metadata": {
            "tags": []
          },
          "execution_count": 27
        }
      ]
    },
    {
      "cell_type": "markdown",
      "metadata": {
        "id": "eegAbIA9WSjU",
        "colab_type": "text"
      },
      "source": [
        "### current label & score\n",
        "1. From the baseline code we had that the original model saved three things:`model`, `imputer`, `classes` on a file called `finalized_model.sav` from the joblib library. \n",
        "2. The Imputer used in the training code might be affecting the testing set. Imputer replaces np.nan values inside the features and it is saved only once for the entire traininset, therefore it must be saved to be re used in the driver.py code\n",
        "3. `current_label`: is originally extracted using:\n",
        "\n",
        " `current_label = model.predict(feats_reshape)[0]`:  Array of float64 (9,) # array([0., 1., 0., 0., 0., 0., 0., 0., 1.])\n",
        " \n",
        " `current_label=current_label.astype(int)`:  Array of int32 (9,) # array([0, 1, 0, 0, 0, 0, 0, 0, 1])\n",
        "\n",
        " `current_score = model.predict_proba(feats_reshape)`: List of 9 which is converted to np.array # array([0.04, 0.74, 0.02, 0.04, 0.09, 0.02, 0.  , 0.03, 0.72])\n",
        "\n",
        " `classes`: This function is stored as well and contains the classes tags:  \n",
        " \n",
        " classes = ['164884008', '164889003', '164909002', '164931005', '270492004', '284470004', '426783006', '429622005', '59118001']\n",
        "   "
      ]
    },
    {
      "cell_type": "code",
      "metadata": {
        "tags": [],
        "id": "iGbu-X11WSjW",
        "colab_type": "code",
        "colab": {
          "base_uri": "https://localhost:8080/",
          "height": 36
        },
        "outputId": "5b6c4632-e87f-4e0c-e56d-1355e72d8951"
      },
      "source": [
        "# adding [0] for extracting the values from the array\n",
        "current_label = nn_model.predict([testing_reshape])[0]\n",
        "current_label = current_label.astype(int)\n",
        "current_label"
      ],
      "execution_count": 28,
      "outputs": [
        {
          "output_type": "execute_result",
          "data": {
            "text/plain": [
              "array([0, 0, 0, 0, 0, 0, 0, 0, 0])"
            ]
          },
          "metadata": {
            "tags": []
          },
          "execution_count": 28
        }
      ]
    },
    {
      "cell_type": "markdown",
      "metadata": {
        "id": "UmIeKRKXWSja",
        "colab_type": "text"
      },
      "source": [
        "Evidently this will be zero all the time unless prediction is really high. Therefore we can use argmax."
      ]
    },
    {
      "cell_type": "code",
      "metadata": {
        "id": "yucMgWOoWSjb",
        "colab_type": "code",
        "colab": {
          "base_uri": "https://localhost:8080/",
          "height": 54
        },
        "outputId": "ed4aa5a2-345f-4137-934c-b0f5377ccc8c"
      },
      "source": [
        "current_label = nn_model.predict(testing_reshape)[0]\n",
        "current_label"
      ],
      "execution_count": 29,
      "outputs": [
        {
          "output_type": "execute_result",
          "data": {
            "text/plain": [
              "array([0.10487058, 0.17140302, 0.0275321 , 0.03518163, 0.10174459,\n",
              "       0.0846144 , 0.14162408, 0.11238665, 0.22064297], dtype=float32)"
            ]
          },
          "metadata": {
            "tags": []
          },
          "execution_count": 29
        }
      ]
    },
    {
      "cell_type": "code",
      "metadata": {
        "tags": [],
        "id": "y4gyETsvWSje",
        "colab_type": "code",
        "colab": {
          "base_uri": "https://localhost:8080/",
          "height": 131
        },
        "outputId": "14b7b06d-cecf-4ff0-cb4a-16498c2d0b8f"
      },
      "source": [
        "# Using the baseline probaility we obtain:\n",
        "current_score = nn_model.predict_proba(testing_reshape)\n",
        "current_score"
      ],
      "execution_count": 30,
      "outputs": [
        {
          "output_type": "stream",
          "text": [
            "WARNING:tensorflow:From <ipython-input-30-ca2b45702bc9>:2: Sequential.predict_proba (from tensorflow.python.keras.engine.sequential) is deprecated and will be removed after 2021-01-01.\n",
            "Instructions for updating:\n",
            "Please use `model.predict()` instead.\n"
          ],
          "name": "stdout"
        },
        {
          "output_type": "execute_result",
          "data": {
            "text/plain": [
              "array([[0.10487058, 0.17140302, 0.0275321 , 0.03518163, 0.10174459,\n",
              "        0.0846144 , 0.14162408, 0.11238665, 0.22064297]], dtype=float32)"
            ]
          },
          "metadata": {
            "tags": []
          },
          "execution_count": 30
        }
      ]
    },
    {
      "cell_type": "code",
      "metadata": {
        "id": "1mMMICSUWSjl",
        "colab_type": "code",
        "colab": {
          "base_uri": "https://localhost:8080/",
          "height": 54
        },
        "outputId": "1a6f9b44-cbaf-40ab-ae25-5c1e58725997"
      },
      "source": [
        "# Suppose softmax model \n",
        "probability_model = tf.keras.Sequential([nn_model,tf.keras.layers.Softmax()])  \n",
        "current_score = nn_model.predict(testing_reshape)\n",
        "current_score"
      ],
      "execution_count": 31,
      "outputs": [
        {
          "output_type": "execute_result",
          "data": {
            "text/plain": [
              "array([[0.10487058, 0.17140302, 0.0275321 , 0.03518163, 0.10174459,\n",
              "        0.0846144 , 0.14162408, 0.11238665, 0.22064297]], dtype=float32)"
            ]
          },
          "metadata": {
            "tags": []
          },
          "execution_count": 31
        }
      ]
    },
    {
      "cell_type": "markdown",
      "metadata": {
        "id": "XuQttKlhWSjo",
        "colab_type": "text"
      },
      "source": [
        "From this results we can infer that nn_model.predict is equivalent to probability_model from Softmax performace"
      ]
    },
    {
      "cell_type": "markdown",
      "metadata": {
        "id": "gD24N5lLWSjo",
        "colab_type": "text"
      },
      "source": [
        "Conclusion"
      ]
    },
    {
      "cell_type": "code",
      "metadata": {
        "tags": [],
        "id": "tvw28GC2WSjp",
        "colab_type": "code",
        "colab": {
          "base_uri": "https://localhost:8080/",
          "height": 73
        },
        "outputId": "1ae86050-6565-4cc3-8ef8-cebd1fc8561d"
      },
      "source": [
        "from numpy import array\n",
        "from numpy import argmax\n",
        "from keras.utils import to_categorical\n",
        "\n",
        "prediction = nn_model.predict([testing_reshape])[0]\n",
        "print(prediction)\n",
        "prediction = np.argmax(prediction)\n",
        "encoded = to_categorical(prediction)\n",
        "current_label = encoded.astype(int)\n",
        "print(current_label)"
      ],
      "execution_count": 32,
      "outputs": [
        {
          "output_type": "stream",
          "text": [
            "[0.10487058 0.17140302 0.0275321  0.03518163 0.10174459 0.0846144\n",
            " 0.14162408 0.11238665 0.22064297]\n",
            "[0 0 0 0 0 0 0 0 1]\n"
          ],
          "name": "stdout"
        }
      ]
    },
    {
      "cell_type": "code",
      "metadata": {
        "id": "DtI6sp0RWSjs",
        "colab_type": "code",
        "colab": {}
      },
      "source": [
        "test = [0.9403204, 0.16651522, 0.02546168, 0.03028586, 0.09770199, 0.08466987, 0.1342014,  0.11385558, 0.9403204]"
      ],
      "execution_count": 33,
      "outputs": []
    },
    {
      "cell_type": "code",
      "metadata": {
        "id": "PQqGHlisWSjz",
        "colab_type": "code",
        "colab": {
          "base_uri": "https://localhost:8080/",
          "height": 54
        },
        "outputId": "6fd4a868-9b14-4cd3-8533-94fcd3213076"
      },
      "source": [
        "test = np.array(test)\n",
        "test"
      ],
      "execution_count": 34,
      "outputs": [
        {
          "output_type": "execute_result",
          "data": {
            "text/plain": [
              "array([0.9403204 , 0.16651522, 0.02546168, 0.03028586, 0.09770199,\n",
              "       0.08466987, 0.1342014 , 0.11385558, 0.9403204 ])"
            ]
          },
          "metadata": {
            "tags": []
          },
          "execution_count": 34
        }
      ]
    },
    {
      "cell_type": "code",
      "metadata": {
        "id": "xDvXcwkwWSj5",
        "colab_type": "code",
        "colab": {
          "base_uri": "https://localhost:8080/",
          "height": 36
        },
        "outputId": "e8d6464f-f70c-4e5c-df80-71c2b7e47071"
      },
      "source": [
        "current_label = test.astype(int)\n",
        "current_label"
      ],
      "execution_count": 35,
      "outputs": [
        {
          "output_type": "execute_result",
          "data": {
            "text/plain": [
              "array([0, 0, 0, 0, 0, 0, 0, 0, 0])"
            ]
          },
          "metadata": {
            "tags": []
          },
          "execution_count": 35
        }
      ]
    },
    {
      "cell_type": "markdown",
      "metadata": {
        "id": "-HHtzkGbWSj8",
        "colab_type": "text"
      },
      "source": [
        "#### Model 2: CNN"
      ]
    },
    {
      "cell_type": "code",
      "metadata": {
        "tags": [],
        "id": "mWqS0Ed3WSj9",
        "colab_type": "code",
        "colab": {
          "base_uri": "https://localhost:8080/",
          "height": 36
        },
        "outputId": "8dc3edd0-106f-4d14-9f8c-a70afbaf3ac1"
      },
      "source": [
        "sequence_size = features.shape[1]\n",
        "n_features=1\n",
        "print(features.shape, label_final.shape)"
      ],
      "execution_count": 36,
      "outputs": [
        {
          "output_type": "stream",
          "text": [
            "(4813, 14) (4813,)\n"
          ],
          "name": "stdout"
        }
      ]
    },
    {
      "cell_type": "code",
      "metadata": {
        "tags": [],
        "id": "YhSgP3MIWSkA",
        "colab_type": "code",
        "colab": {
          "base_uri": "https://localhost:8080/",
          "height": 316
        },
        "outputId": "f4ed2f19-6230-4653-bfde-e7ffa37285f7"
      },
      "source": [
        "cnn_model = Sequential([\n",
        "Conv1D(\n",
        "    filters=1,\n",
        "    kernel_size=4,\n",
        "    strides=1,\n",
        "    input_shape=(14, 1),\n",
        "    padding=\"same\",\n",
        "    activation=\"relu\"\n",
        "),\n",
        "Flatten(),\n",
        "Dropout(0.5),\n",
        "Dense(\n",
        "    9,\n",
        "    activation=\"sigmoid\",\n",
        "    name=\"output\",\n",
        ")\n",
        "])\n",
        "optimizer = Adam(lr=0.001)\n",
        "# Compiling the model\n",
        "cnn_model.compile(\n",
        "    optimizer=optimizer,\n",
        "    loss=\"binary_crossentropy\",\n",
        "    metrics=[\"accuracy\"]\n",
        ")\n",
        "cnn_model.summary()\n"
      ],
      "execution_count": 43,
      "outputs": [
        {
          "output_type": "stream",
          "text": [
            "Model: \"sequential_11\"\n",
            "_________________________________________________________________\n",
            "Layer (type)                 Output Shape              Param #   \n",
            "=================================================================\n",
            "conv1d_1 (Conv1D)            (None, 14, 1)             5         \n",
            "_________________________________________________________________\n",
            "flatten_3 (Flatten)          (None, 14)                0         \n",
            "_________________________________________________________________\n",
            "dropout_1 (Dropout)          (None, 14)                0         \n",
            "_________________________________________________________________\n",
            "output (Dense)               (None, 9)                 135       \n",
            "=================================================================\n",
            "Total params: 140\n",
            "Trainable params: 140\n",
            "Non-trainable params: 0\n",
            "_________________________________________________________________\n"
          ],
          "name": "stdout"
        }
      ]
    },
    {
      "cell_type": "code",
      "metadata": {
        "tags": [],
        "id": "_BKv1Xd8WSkH",
        "colab_type": "code",
        "colab": {
          "base_uri": "https://localhost:8080/",
          "height": 54
        },
        "outputId": "0694f6f0-26e0-47ef-f990-3ea546869d87"
      },
      "source": [
        "feat_final = np.expand_dims(features, axis=2) \n",
        "label_final = label_final.reshape(-1,1)\n",
        "print(\"features shape: \", feat_final.shape)\n",
        "print(\"label features: \", label_final.shape)"
      ],
      "execution_count": 44,
      "outputs": [
        {
          "output_type": "stream",
          "text": [
            "features shape:  (4813, 14, 1)\n",
            "label features:  (4813, 1)\n"
          ],
          "name": "stdout"
        }
      ]
    },
    {
      "cell_type": "code",
      "metadata": {
        "id": "3ZZBHAJFWSkL",
        "colab_type": "code",
        "colab": {
          "base_uri": "https://localhost:8080/",
          "height": 36
        },
        "outputId": "5d678db4-78aa-43f8-8880-9ad7c476826c"
      },
      "source": [
        "label_final.shape"
      ],
      "execution_count": 39,
      "outputs": [
        {
          "output_type": "execute_result",
          "data": {
            "text/plain": [
              "(4813, 1)"
            ]
          },
          "metadata": {
            "tags": []
          },
          "execution_count": 39
        }
      ]
    },
    {
      "cell_type": "code",
      "metadata": {
        "tags": [],
        "id": "YPsXWVNMWSkR",
        "colab_type": "code",
        "colab": {
          "base_uri": "https://localhost:8080/",
          "height": 597
        },
        "outputId": "cc14f6ad-ba06-4848-e106-446cf387207c"
      },
      "source": [
        "cnn_model.fit(feat_final, labels,  epochs=15, batch_size=10,  verbose=2)"
      ],
      "execution_count": 45,
      "outputs": [
        {
          "output_type": "stream",
          "text": [
            "Epoch 1/15\n",
            "482/482 - 1s - loss: 0.4619 - accuracy: 0.1812\n",
            "Epoch 2/15\n",
            "482/482 - 0s - loss: 0.3633 - accuracy: 0.2138\n",
            "Epoch 3/15\n",
            "482/482 - 0s - loss: 0.3587 - accuracy: 0.2155\n",
            "Epoch 4/15\n",
            "482/482 - 0s - loss: 0.3551 - accuracy: 0.2225\n",
            "Epoch 5/15\n",
            "482/482 - 1s - loss: 0.3529 - accuracy: 0.2248\n",
            "Epoch 6/15\n",
            "482/482 - 0s - loss: 0.3524 - accuracy: 0.2248\n",
            "Epoch 7/15\n",
            "482/482 - 1s - loss: 0.3509 - accuracy: 0.2256\n",
            "Epoch 8/15\n",
            "482/482 - 1s - loss: 0.3497 - accuracy: 0.2254\n",
            "Epoch 9/15\n",
            "482/482 - 0s - loss: 0.3497 - accuracy: 0.2256\n",
            "Epoch 10/15\n",
            "482/482 - 0s - loss: 0.3491 - accuracy: 0.2256\n",
            "Epoch 11/15\n",
            "482/482 - 1s - loss: 0.3484 - accuracy: 0.2256\n",
            "Epoch 12/15\n",
            "482/482 - 1s - loss: 0.3483 - accuracy: 0.2256\n",
            "Epoch 13/15\n",
            "482/482 - 0s - loss: 0.3477 - accuracy: 0.2256\n",
            "Epoch 14/15\n",
            "482/482 - 1s - loss: 0.3472 - accuracy: 0.2256\n",
            "Epoch 15/15\n",
            "482/482 - 1s - loss: 0.3468 - accuracy: 0.2256\n"
          ],
          "name": "stdout"
        },
        {
          "output_type": "execute_result",
          "data": {
            "text/plain": [
              "<tensorflow.python.keras.callbacks.History at 0x7f8ae3313438>"
            ]
          },
          "metadata": {
            "tags": []
          },
          "execution_count": 45
        }
      ]
    },
    {
      "cell_type": "code",
      "metadata": {
        "id": "2tjohu4VWSkX",
        "colab_type": "code",
        "colab": {}
      },
      "source": [
        ""
      ],
      "execution_count": null,
      "outputs": []
    }
  ]
}