{
 "cells": [
  {
   "cell_type": "code",
   "execution_count": 53,
   "metadata": {
    "tags": []
   },
   "outputs": [],
   "source": [
    "import pandas as pd\n",
    "import seaborn as sns\n",
    "import os\n",
    "from pathlib import Path\n",
    "import matplotlib.pyplot as plt\n",
    "from scipy.misc import electrocardiogram\n",
    "from scipy import signal\n",
    "import scipy.integrate as integrate\n",
    "import scipy.fftpack as ff\n",
    "#!/usr/bin/env python\n",
    "\n",
    "import numpy as np, os, sys, joblib\n",
    "from scipy.io import loadmat\n",
    "from sklearn.impute import SimpleImputer\n",
    "from sklearn.ensemble import RandomForestClassifier\n",
    "from get_12ECG_features import get_12ECG_features\n",
    "\n",
    "import pandas as pd\n",
    "import numpy as np\n",
    "from sklearn.model_selection import train_test_split\n",
    "from sklearn.preprocessing import StandardScaler\n",
    "import matplotlib.pyplot as plt\n",
    "from pathlib import Path\n",
    "from numpy import genfromtxt\n",
    "\n",
    "# TensorFlow and tf.keras\n",
    "import tensorflow as tf\n",
    "from tensorflow import keras\n",
    "from keras.models import Sequential\n",
    "from keras.layers import Conv1D, LSTM, Dense, Dropout, TimeDistributed, Flatten\n",
    "from keras.optimizers import Adam\n",
    "import keras\n",
    "\n",
    "import matplotlib.pyplot as plt\n",
    "%matplotlib inline"
   ]
  },
  {
   "cell_type": "markdown",
   "metadata": {},
   "source": [
    "# 1. Signal lecture \n",
    "#### Please note: \n",
    "For easier data analysis and features visualization, please use pandas (since its easier to use). But for the final signal (the one we need to integration), please use numpy format (convert to numpy using \"signal.values\")"
   ]
  },
  {
   "cell_type": "code",
   "execution_count": 54,
   "metadata": {},
   "outputs": [],
   "source": [
    "features = f'features.csv'\n",
    "labels = f'labels.csv'\n",
    "testing = f'testing.csv'\n",
    "testing = genfromtxt(testing, delimiter=',')\n",
    "features = genfromtxt(features, delimiter=',')\n",
    "labels = genfromtxt(labels, delimiter=',')"
   ]
  },
  {
   "cell_type": "code",
   "execution_count": 55,
   "metadata": {},
   "outputs": [],
   "source": [
    "# Normalize data\n",
    "testing = tf.keras.utils.normalize(testing)\n",
    "features = tf.keras.utils.normalize(features)"
   ]
  },
  {
   "cell_type": "code",
   "execution_count": 56,
   "metadata": {
    "tags": []
   },
   "outputs": [
    {
     "output_type": "stream",
     "name": "stdout",
     "text": "float64\nfloat64\nfloat64\n"
    }
   ],
   "source": [
    "print(features.dtype)\n",
    "print(testing.dtype)\n",
    "print(label.dtype)"
   ]
  },
  {
   "cell_type": "code",
   "execution_count": 57,
   "metadata": {
    "tags": []
   },
   "outputs": [
    {
     "output_type": "stream",
     "name": "stdout",
     "text": "(1, 14)\n"
    }
   ],
   "source": [
    "## Inside the run_12ECG_code we must consider the following structure (1,14)\n",
    "testing_reshape = testing.reshape(1, -1)\n",
    "imputer=SimpleImputer().fit(testing_reshape)\n",
    "testing_reshape = imputer.transform(testing_reshape)\n",
    "print(testing_reshape.shape)"
   ]
  },
  {
   "cell_type": "code",
   "execution_count": 58,
   "metadata": {
    "tags": []
   },
   "outputs": [
    {
     "output_type": "stream",
     "name": "stdout",
     "text": "(4813, 14) (4813, 9)\n"
    },
    {
     "output_type": "execute_result",
     "data": {
      "text/plain": "67368"
     },
     "metadata": {},
     "execution_count": 58
    }
   ],
   "source": [
    "# Training set bust consider the next structure\n",
    "print(features.shape, labels.shape)\n",
    "4812*14"
   ]
  },
  {
   "cell_type": "code",
   "execution_count": 59,
   "metadata": {
    "tags": []
   },
   "outputs": [
    {
     "output_type": "stream",
     "name": "stdout",
     "text": "uint8\n"
    }
   ],
   "source": [
    "# Since labels are organized in hot-encoding format and we need the index Number, define decode:\n",
    "def decode(datum):\n",
    "    return np.argmax(datum)\n",
    "label_final = []\n",
    "    \n",
    "# Extract hot-encode format to normal format\n",
    "for i in range(labels.shape[0]):\n",
    "    label = labels[i]\n",
    "    decoded_labels = decode(label)\n",
    "    label_final.append(decoded_labels)\n",
    "# Convert list to np array\n",
    "label_final = np.array(label_final)\n",
    "label_final = np.uint8(label_final)\n",
    "print(label_final.dtype)"
   ]
  },
  {
   "cell_type": "markdown",
   "metadata": {},
   "source": [
    "#### Model 1 : branch NN_1"
   ]
  },
  {
   "cell_type": "code",
   "execution_count": 60,
   "metadata": {
    "tags": []
   },
   "outputs": [
    {
     "output_type": "stream",
     "name": "stdout",
     "text": "training model NN_1\nEpoch 1/10\n151/151 [==============================] - 1s 4ms/step - loss: 2.0715 - accuracy: 0.2161\nEpoch 2/10\n151/151 [==============================] - 1s 4ms/step - loss: 2.0581 - accuracy: 0.2256\nEpoch 3/10\n151/151 [==============================] - 1s 4ms/step - loss: 2.0557 - accuracy: 0.2256\nEpoch 4/10\n151/151 [==============================] - 1s 4ms/step - loss: 2.0532 - accuracy: 0.2256\nEpoch 5/10\n151/151 [==============================] - 1s 4ms/step - loss: 2.0533 - accuracy: 0.2256\nEpoch 6/10\n151/151 [==============================] - 1s 4ms/step - loss: 2.0526 - accuracy: 0.2256\nEpoch 7/10\n151/151 [==============================] - 1s 4ms/step - loss: 2.0529 - accuracy: 0.2256\nEpoch 8/10\n151/151 [==============================] - 1s 4ms/step - loss: 2.0516 - accuracy: 0.2256\nEpoch 9/10\n151/151 [==============================] - 1s 4ms/step - loss: 2.0519 - accuracy: 0.2256\nEpoch 10/10\n151/151 [==============================] - 1s 4ms/step - loss: 2.0511 - accuracy: 0.2256\n151/151 [==============================] - 0s 2ms/step - loss: 2.0491 - accuracy: 0.2256\nThe model is trained\n"
    }
   ],
   "source": [
    "print(\"training model NN_1\")\n",
    "############# MODEL 1 - NN ######################\n",
    "model_1 = tf.keras.models.Sequential()\n",
    "model_1.add(tf.keras.layers.Flatten())\n",
    "# use 128 neurons & use relu act func\n",
    "model_1.add(tf.keras.layers.Dense(128, activation = tf.nn.relu))\n",
    "model_1.add(tf.keras.layers.Dense(128, activation = tf.nn.relu))\n",
    "\n",
    "model_1.add(tf.keras.layers.Dense(128, activation = tf.nn.relu))\n",
    "\n",
    "model_1.add(tf.keras.layers.Dense(128, activation = tf.nn.relu))\n",
    "\n",
    "model_1.add(tf.keras.layers.Dense(128, activation = tf.nn.relu))\n",
    "\n",
    "model_1.add(tf.keras.layers.Dense(128, activation = tf.nn.relu))\n",
    "# the final output layer must be Dense and must fit # classifications and must use probability distribution instead of an activation function\n",
    "model_1.add(tf.keras.layers.Dense(9, activation = tf.nn.softmax))\n",
    "    \n",
    "# Compile \n",
    "model_1.compile(\n",
    "optimizer= 'adam' ,# NN intends to minimize losss, not maximize accuracy\n",
    "loss = 'sparse_categorical_crossentropy',\n",
    "metrics = ['accuracy']\n",
    ")\n",
    "# Fit the model appropiatelly\n",
    "model_1.fit(features, label_final, epochs=10)\n",
    "val_loss, val_acc = model_1.evaluate(features, label_final)\n",
    "print(\"The model is trained\")"
   ]
  },
  {
   "cell_type": "code",
   "execution_count": 61,
   "metadata": {
    "tags": []
   },
   "outputs": [
    {
     "output_type": "stream",
     "name": "stdout",
     "text": "Model: \"sequential_3\"\n_________________________________________________________________\nLayer (type)                 Output Shape              Param #   \n=================================================================\nflatten_3 (Flatten)          (None, 14)                0         \n_________________________________________________________________\ndense_21 (Dense)             (None, 128)               1920      \n_________________________________________________________________\ndense_22 (Dense)             (None, 128)               16512     \n_________________________________________________________________\ndense_23 (Dense)             (None, 128)               16512     \n_________________________________________________________________\ndense_24 (Dense)             (None, 128)               16512     \n_________________________________________________________________\ndense_25 (Dense)             (None, 128)               16512     \n_________________________________________________________________\ndense_26 (Dense)             (None, 128)               16512     \n_________________________________________________________________\ndense_27 (Dense)             (None, 9)                 1161      \n=================================================================\nTotal params: 85,641\nTrainable params: 85,641\nNon-trainable params: 0\n_________________________________________________________________\n"
    }
   ],
   "source": [
    "model_1.summary()"
   ]
  },
  {
   "cell_type": "code",
   "execution_count": 62,
   "metadata": {
    "tags": []
   },
   "outputs": [
    {
     "output_type": "stream",
     "name": "stdout",
     "text": "INFO:tensorflow:Assets written to: NN_1.model\\assets\n"
    }
   ],
   "source": [
    "# Save model.\n",
    "model_1.save(\"NN_1.model\")"
   ]
  },
  {
   "cell_type": "code",
   "execution_count": 63,
   "metadata": {
    "tags": []
   },
   "outputs": [
    {
     "output_type": "stream",
     "name": "stdout",
     "text": "(4813, 14) (4813,)\n"
    }
   ],
   "source": [
    "print(features.shape, label_final.shape)"
   ]
  },
  {
   "cell_type": "code",
   "execution_count": 64,
   "metadata": {},
   "outputs": [
    {
     "output_type": "execute_result",
     "data": {
      "text/plain": "array([[0., 0., 0., ..., 0., 0., 1.],\n       [0., 0., 0., ..., 1., 0., 0.],\n       [0., 1., 0., ..., 0., 0., 0.],\n       ...,\n       [0., 0., 0., ..., 1., 0., 0.],\n       [0., 0., 0., ..., 0., 0., 0.],\n       [0., 0., 0., ..., 0., 0., 1.]])"
     },
     "metadata": {},
     "execution_count": 64
    }
   ],
   "source": [
    "labels"
   ]
  },
  {
   "cell_type": "code",
   "execution_count": 65,
   "metadata": {},
   "outputs": [
    {
     "output_type": "execute_result",
     "data": {
      "text/plain": "<tensorflow.python.keras.engine.sequential.Sequential at 0x1c55261a3c8>"
     },
     "metadata": {},
     "execution_count": 65
    }
   ],
   "source": [
    "nn_model = tf.keras.models.load_model('NN_1.model/')\n",
    "nn_model"
   ]
  },
  {
   "cell_type": "code",
   "execution_count": 66,
   "metadata": {},
   "outputs": [
    {
     "output_type": "execute_result",
     "data": {
      "text/plain": "dtype('float64')"
     },
     "metadata": {},
     "execution_count": 66
    }
   ],
   "source": [
    "testing = np.array(testing)\n",
    "testing.dtype"
   ]
  },
  {
   "cell_type": "code",
   "execution_count": 67,
   "metadata": {
    "tags": []
   },
   "outputs": [
    {
     "output_type": "stream",
     "name": "stdout",
     "text": "min testing:  [ 8.18680069e-14  1.07721062e-15  1.35874940e-11  4.27676526e-08\n  1.38626234e-11  6.32003060e-08  7.47888383e-12  3.24457787e-08\n  5.31321232e-08  1.00000000e+00 -2.32469180e-16 -4.49220193e-16\n -1.20301183e-15 -1.88455344e-15] max testing:  [ 8.18680069e-14  1.07721062e-15  1.35874940e-11  4.27676526e-08\n  1.38626234e-11  6.32003060e-08  7.47888383e-12  3.24457787e-08\n  5.31321232e-08  1.00000000e+00 -2.32469180e-16 -4.49220193e-16\n -1.20301183e-15 -1.88455344e-15]\n"
    }
   ],
   "source": [
    "print(\"min testing: \", min(testing), \"max testing: \", max(testing))"
   ]
  },
  {
   "cell_type": "code",
   "execution_count": 68,
   "metadata": {
    "tags": []
   },
   "outputs": [
    {
     "output_type": "execute_result",
     "data": {
      "text/plain": "array([0.09846842, 0.16949736, 0.02555829, 0.03190899, 0.09999858,\n       0.08274734, 0.13990974, 0.11652532, 0.23538597], dtype=float32)"
     },
     "metadata": {},
     "execution_count": 68
    }
   ],
   "source": [
    "predictions = nn_model.predict([testing_reshape])[0]\n",
    "predictions"
   ]
  },
  {
   "cell_type": "code",
   "execution_count": null,
   "metadata": {},
   "outputs": [],
   "source": []
  }
 ],
 "metadata": {
  "kernelspec": {
   "display_name": "Python 3.7.6 64-bit ('base': conda)",
   "language": "python",
   "name": "python37664bitbaseconda91809b139dd24b97ab06595f752137a3"
  },
  "language_info": {
   "codemirror_mode": {
    "name": "ipython",
    "version": 3
   },
   "file_extension": ".py",
   "mimetype": "text/x-python",
   "name": "python",
   "nbconvert_exporter": "python",
   "pygments_lexer": "ipython3",
   "version": "3.7.6-final"
  }
 },
 "nbformat": 4,
 "nbformat_minor": 4
}